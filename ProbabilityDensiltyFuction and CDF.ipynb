{
 "cells": [
  {
   "cell_type": "code",
   "execution_count": 1,
   "id": "af886a99",
   "metadata": {},
   "outputs": [],
   "source": [
    "import pandas as pd\n",
    "import seaborn as sns\n"
   ]
  },
  {
   "cell_type": "code",
   "execution_count": 2,
   "id": "7f8b5306",
   "metadata": {},
   "outputs": [],
   "source": [
    "data=pd.read_csv(\"preprocessedData.csv\")"
   ]
  },
  {
   "cell_type": "code",
   "execution_count": 3,
   "id": "a361a3dc",
   "metadata": {},
   "outputs": [
    {
     "name": "stdout",
     "output_type": "stream",
     "text": [
      "<class 'pandas.core.frame.DataFrame'>\n",
      "RangeIndex: 215 entries, 0 to 214\n",
      "Data columns (total 15 columns):\n",
      "gender            215 non-null object\n",
      "ssc_b             215 non-null object\n",
      "hsc_b             215 non-null object\n",
      "hsc_s             215 non-null object\n",
      "degree_t          215 non-null object\n",
      "workex            215 non-null object\n",
      "specialisation    215 non-null object\n",
      "status            215 non-null object\n",
      "sl_no             215 non-null float64\n",
      "ssc_p             215 non-null float64\n",
      "hsc_p             215 non-null float64\n",
      "degree_p          215 non-null float64\n",
      "etest_p           215 non-null float64\n",
      "mba_p             215 non-null float64\n",
      "salary            215 non-null float64\n",
      "dtypes: float64(7), object(8)\n",
      "memory usage: 25.3+ KB\n"
     ]
    }
   ],
   "source": [
    "data.info()"
   ]
  },
  {
   "cell_type": "code",
   "execution_count": 4,
   "id": "e6fc2f04",
   "metadata": {},
   "outputs": [
    {
     "data": {
      "text/plain": [
       "gender            0\n",
       "ssc_b             0\n",
       "hsc_b             0\n",
       "hsc_s             0\n",
       "degree_t          0\n",
       "workex            0\n",
       "specialisation    0\n",
       "status            0\n",
       "sl_no             0\n",
       "ssc_p             0\n",
       "hsc_p             0\n",
       "degree_p          0\n",
       "etest_p           0\n",
       "mba_p             0\n",
       "salary            0\n",
       "dtype: int64"
      ]
     },
     "execution_count": 4,
     "metadata": {},
     "output_type": "execute_result"
    }
   ],
   "source": [
    "data.isna().sum()"
   ]
  },
  {
   "cell_type": "code",
   "execution_count": null,
   "id": "b73d43ca",
   "metadata": {},
   "outputs": [],
   "source": []
  },
  {
   "cell_type": "markdown",
   "id": "2a102ee8",
   "metadata": {},
   "source": [
    "# plot normal distribution\n"
   ]
  },
  {
   "cell_type": "code",
   "execution_count": 7,
   "id": "3c2b068f",
   "metadata": {},
   "outputs": [
    {
     "name": "stderr",
     "output_type": "stream",
     "text": [
      "C:\\Users\\venka\\anaconda3\\envs\\aiml\\lib\\site-packages\\ipykernel_launcher.py:1: UserWarning: \n",
      "\n",
      "`distplot` is a deprecated function and will be removed in seaborn v0.14.0.\n",
      "\n",
      "Please adapt your code to use either `displot` (a figure-level function with\n",
      "similar flexibility) or `histplot` (an axes-level function for histograms).\n",
      "\n",
      "For a guide to updating your code to use the new functions, please see\n",
      "https://gist.github.com/mwaskom/de44147ed2974457ad6372750bbe5751\n",
      "\n",
      "  \"\"\"Entry point for launching an IPython kernel.\n"
     ]
    },
    {
     "data": {
      "image/png": "[encoded data removed]",
      "text/plain": [
       "<Figure size 640x480 with 1 Axes>"
      ]
     },
     "metadata": {},
     "output_type": "display_data"
    }
   ],
   "source": [
    "Ndist=sns.distplot(data['salary'])"
   ]
  },
  {
   "cell_type": "code",
   "execution_count": 8,
   "id": "728e7b56",
   "metadata": {},
   "outputs": [],
   "source": [
    "mean=data.mean()"
   ]
  },
  {
   "cell_type": "code",
   "execution_count": 9,
   "id": "f980f502",
   "metadata": {},
   "outputs": [],
   "source": [
    "std_D=data.std()"
   ]
  },
  {
   "cell_type": "code",
   "execution_count": 10,
   "id": "68509beb",
   "metadata": {},
   "outputs": [],
   "source": [
    "from scipy.stats import norm\n",
    "from matplotlib import pyplot"
   ]
  },
  {
   "cell_type": "code",
   "execution_count": 11,
   "id": "16118037",
   "metadata": {},
   "outputs": [],
   "source": [
    "Distribution=norm(mean,std_D)"
   ]
  },
  {
   "cell_type": "code",
   "execution_count": 12,
   "id": "7f39184c",
   "metadata": {},
   "outputs": [
    {
     "data": {
      "text/plain": [
       "<scipy.stats._distn_infrastructure.rv_frozen at 0x1b45fdbf9c8>"
      ]
     },
     "execution_count": 12,
     "metadata": {},
     "output_type": "execute_result"
    }
   ],
   "source": [
    "Distribution"
   ]
  },
  {
   "cell_type": "markdown",
   "id": "ef08d2af",
   "metadata": {},
   "source": [
    "# plot probability density function"
   ]
  },
  {
   "cell_type": "code",
   "execution_count": 19,
   "id": "ac845ae4",
   "metadata": {},
   "outputs": [
    {
     "name": "stdout",
     "output_type": "stream",
     "text": [
      "The area between range 40,50 :[3.80910129e-02 4.48925945e-02 5.42608291e-02 1.07576311e-02\n",
      " 3.72845892e-02 1.40997920e-02 4.97868719e-08]\n"
     ]
    }
   ],
   "source": [
    "values=[]\n",
    "for value in range(40,50):\n",
    "    values.append(value)\n",
    "pdfDist=[Distribution.pdf(value) for value in values]\n",
    "prob=sum(pdfDist)\n",
    "print('The area between range {},{} :{}'.format(40,50,prob))"
   ]
  },
  {
   "cell_type": "code",
   "execution_count": 28,
   "id": "39bdd155",
   "metadata": {},
   "outputs": [
    {
     "name": "stderr",
     "output_type": "stream",
     "text": [
      "C:\\Users\\venka\\anaconda3\\envs\\aiml\\lib\\site-packages\\ipykernel_launcher.py:1: UserWarning: \n",
      "\n",
      "`distplot` is a deprecated function and will be removed in seaborn v0.14.0.\n",
      "\n",
      "Please adapt your code to use either `displot` (a figure-level function with\n",
      "similar flexibility) or `histplot` (an axes-level function for histograms).\n",
      "\n",
      "For a guide to updating your code to use the new functions, please see\n",
      "https://gist.github.com/mwaskom/de44147ed2974457ad6372750bbe5751\n",
      "\n",
      "  \"\"\"Entry point for launching an IPython kernel.\n"
     ]
    },
    {
     "data": {
      "text/plain": [
       "<matplotlib.lines.Line2D at 0x1b46c718608>"
      ]
     },
     "execution_count": 28,
     "metadata": {},
     "output_type": "execute_result"
    },
    {
     "data": {
      "image/png": "[encoded data removed]",
      "text/plain": [
       "<Figure size 640x480 with 1 Axes>"
      ]
     },
     "metadata": {},
     "output_type": "display_data"
    }
   ],
   "source": [
    "ax=sns.distplot(data['salary'],kde=True,kde_kws={'color':'green'},color='grey')\n",
    "pyplot.axvline(200000,color='red')\n",
    "pyplot.axvline(250000,color='red')\n"
   ]
  },
  {
   "cell_type": "code",
   "execution_count": 44,
   "id": "648a935f",
   "metadata": {},
   "outputs": [],
   "source": [
    "def probability_density(data,startrange,endrange):\n",
    "\n",
    "#using seaborn distribution plot by giving input data and mentioning the kernal distribution as True, color as green, grey \n",
    "#for data representation\n",
    "    ax=sns.distplot(data,kde=True,kde_kws={'color':'green'},color='grey')\n",
    "    \n",
    "#with the distplot plot two vertical line mentioning the color as red, has start and end range\n",
    "    pyplot.axvline(startrange,color='red')\n",
    "    pyplot.axvline(endrange,color='red')\n",
    "\n",
    "#finding mean and std deviation to plot the normal distribution curve\n",
    "    mean=data.mean()\n",
    "    std_D=data.std()\n",
    "    print('mean=%.3f, standard deviation =%.3f' % (mean, std_D))\n",
    "    \n",
    "    Ndist=norm(mean,std_D)\n",
    "    \n",
    "    \n",
    "#using inlinear feature for giving range of values and to store it in a list\n",
    "    values=[value for value in range(startrange,endrange)]\n",
    "    \n",
    "#using pdf function plot probability distribution with the values stored in the list\n",
    "    Pdist=[Ndist.pdf(value) for value in values]\n",
    "    \n",
    "#adding all the probability distribution values to find the probability\n",
    "    probability=sum(Pdist)\n",
    "\n",
    "    print('The probability in the range ({}- {})={}'.format(startrange,endrange,probability))\n",
    "    \n",
    "    return probability\n"
   ]
  },
  {
   "cell_type": "code",
   "execution_count": 45,
   "id": "1ed18770",
   "metadata": {},
   "outputs": [
    {
     "name": "stderr",
     "output_type": "stream",
     "text": [
      "C:\\Users\\venka\\anaconda3\\envs\\aiml\\lib\\site-packages\\ipykernel_launcher.py:3: UserWarning: \n",
      "\n",
      "`distplot` is a deprecated function and will be removed in seaborn v0.14.0.\n",
      "\n",
      "Please adapt your code to use either `displot` (a figure-level function with\n",
      "similar flexibility) or `histplot` (an axes-level function for histograms).\n",
      "\n",
      "For a guide to updating your code to use the new functions, please see\n",
      "https://gist.github.com/mwaskom/de44147ed2974457ad6372750bbe5751\n",
      "\n",
      "  This is separate from the ipykernel package so we can avoid doing imports until\n"
     ]
    },
    {
     "name": "stdout",
     "output_type": "stream",
     "text": [
      "mean=66.370, standard deviation =7.359\n",
      "The probability in the range (65- 75)=0.4659413563062123\n"
     ]
    },
    {
     "data": {
      "text/plain": [
       "0.4659413563062123"
      ]
     },
     "execution_count": 45,
     "metadata": {},
     "output_type": "execute_result"
    },
    {
     "data": {
      "image/png": "[encoded data removed]",
      "text/plain": [
       "<Figure size 640x480 with 1 Axes>"
      ]
     },
     "metadata": {},
     "output_type": "display_data"
    }
   ],
   "source": [
    "probability_density(data['degree_p'],65,75)"
   ]
  },
  {
   "cell_type": "code",
   "execution_count": null,
   "id": "346233c1",
   "metadata": {},
   "outputs": [],
   "source": []
  },
  {
   "cell_type": "code",
   "execution_count": 47,
   "id": "79d011a0",
   "metadata": {},
   "outputs": [
    {
     "name": "stdout",
     "output_type": "stream",
     "text": [
      "Collecting statsmodels\n",
      "  Downloading statsmodels-0.13.5-cp37-cp37m-win_amd64.whl (9.1 MB)\n",
      "     ---------------------------------------- 9.1/9.1 MB 1.9 MB/s eta 0:00:00\n",
      "Requirement already satisfied: pandas>=0.25 in c:\\users\\venka\\anaconda3\\envs\\aiml\\lib\\site-packages (from statsmodels) (0.25.3)\n",
      "Collecting patsy>=0.5.2\n",
      "  Downloading patsy-0.5.3-py2.py3-none-any.whl (233 kB)\n",
      "     -------------------------------------- 233.8/233.8 kB 2.4 MB/s eta 0:00:00\n",
      "Requirement already satisfied: numpy>=1.17 in c:\\users\\venka\\anaconda3\\envs\\aiml\\lib\\site-packages (from statsmodels) (1.17.4)\n",
      "Requirement already satisfied: packaging>=21.3 in c:\\users\\venka\\anaconda3\\envs\\aiml\\lib\\site-packages (from statsmodels) (22.0)\n",
      "Requirement already satisfied: scipy>=1.3 in c:\\users\\venka\\anaconda3\\envs\\aiml\\lib\\site-packages (from statsmodels) (1.7.3)\n",
      "Requirement already satisfied: pytz>=2017.2 in c:\\users\\venka\\anaconda3\\envs\\aiml\\lib\\site-packages (from pandas>=0.25->statsmodels) (2023.3.post1)\n",
      "Requirement already satisfied: python-dateutil>=2.6.1 in c:\\users\\venka\\anaconda3\\envs\\aiml\\lib\\site-packages (from pandas>=0.25->statsmodels) (2.8.2)\n",
      "Requirement already satisfied: six in c:\\users\\venka\\anaconda3\\envs\\aiml\\lib\\site-packages (from patsy>=0.5.2->statsmodels) (1.16.0)\n",
      "Installing collected packages: patsy, statsmodels\n",
      "Successfully installed patsy-0.5.3 statsmodels-0.13.5\n"
     ]
    }
   ],
   "source": [
    "!pip install statsmodels"
   ]
  },
  {
   "cell_type": "code",
   "execution_count": 49,
   "id": "38168823",
   "metadata": {},
   "outputs": [],
   "source": [
    "from statsmodels.distributions.empirical_distribution import ECDF"
   ]
  },
  {
   "cell_type": "code",
   "execution_count": 51,
   "id": "e8f40a01",
   "metadata": {},
   "outputs": [],
   "source": [
    "cdf=ECDF(data['degree_p'])"
   ]
  },
  {
   "cell_type": "code",
   "execution_count": 53,
   "id": "d0d8ae0a",
   "metadata": {},
   "outputs": [
    {
     "data": {
      "text/plain": [
       "0.6837209302325581"
      ]
     },
     "execution_count": 53,
     "metadata": {},
     "output_type": "execute_result"
    }
   ],
   "source": [
    "cdf(69)"
   ]
  },
  {
   "cell_type": "code",
   "execution_count": null,
   "id": "483ff944",
   "metadata": {},
   "outputs": [],
   "source": []
  }
 ],
 "metadata": {
  "kernelspec": {
   "display_name": "Python 3 (ipykernel)",
   "language": "python",
   "name": "python3"
  },
  "language_info": {
   "codemirror_mode": {
    "name": "ipython",
    "version": 3
   },
   "file_extension": ".py",
   "mimetype": "text/x-python",
   "name": "python",
   "nbconvert_exporter": "python",
   "pygments_lexer": "ipython3",
   "version": "3.7.6"
  }
 },
 "nbformat": 4,
 "nbformat_minor": 5
}
